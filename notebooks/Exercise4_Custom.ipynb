{
 "cells": [
  {
   "cell_type": "markdown",
   "id": "cc238aed-4fa0-4fc5-b674-bc683e03019e",
   "metadata": {},
   "source": [
    "# Exercise 4 Custom: Assembling your own graph from Wikidata\n",
    "\n",
    "## Introduction\n",
    "\n",
    "We are now going to assemble our own graph based on our own search terms!  This exercise is really just for fun.  Make it your own!  Be sure in particular to adjust your P-codes to reflect claims that are appropriate to your graph.\n",
    "\n",
    "The remainder of the course will use our pre-populated graphs.  This code is really just the framework that we used before.  And as a reminder, don't get frustrated if Wikidata doesn't cooperate.  Get a cup of coffee, restart the kernel, and try again.  Have fun!  :)"
   ]
  },
  {
   "cell_type": "code",
   "execution_count": null,
   "id": "75a2d936-ce17-408f-be30-3403bc5423b7",
   "metadata": {},
   "outputs": [],
   "source": [
    "%matplotlib inline\n",
    "\n",
    "import json\n",
    "import re\n",
    "import urllib\n",
    "from pprint import pprint\n",
    "import time\n",
    "from tqdm import tqdm\n",
    "\n",
    "from neo4j import GraphDatabase\n",
    "\n",
    "import numpy as np\n",
    "import pandas as pd\n",
    "import wikipedia\n",
    "\n",
    "import spacy\n",
    "from spacy.lang.en.stop_words import STOP_WORDS\n",
    "from spacy.matcher import Matcher\n",
    "from spacy.tokens import Doc, Span, Token\n",
    "\n",
    "from pywikibot.data import api\n",
    "import pywikibot\n",
    "import wikipedia\n",
    "\n",
    "print(spacy.__version__)\n",
    "print(pywikibot.__version__)\n",
    "print(wikipedia.__version__)"
   ]
  },
  {
   "cell_type": "code",
   "execution_count": null,
   "id": "621e4003-1c85-4007-8002-0d0b4eec6b00",
   "metadata": {},
   "outputs": [],
   "source": [
    "non_nc = spacy.load('en_core_web_md')\n",
    "\n",
    "nlp = spacy.load('en_core_web_md')\n",
    "nlp.add_pipe('merge_noun_chunks')\n",
    "\n",
    "print(nlp.pipe_names)"
   ]
  },
  {
   "cell_type": "code",
   "execution_count": null,
   "id": "4f79c7e9-f94f-446d-bd8e-6491d82b39c3",
   "metadata": {},
   "outputs": [],
   "source": [
    "# Put your own search term here\n",
    "# Be sure to check what spacy identifies as the named entities.  Make sure that there are\n",
    "# enough of them to make for an interesting graph.  But remember that the more you have \n",
    "# the longer it will take to query Wikidata.\n",
    "\n",
    "text = wikipedia.summary('')\n",
    "doc = nlp(text)\n",
    "text"
   ]
  },
  {
   "cell_type": "code",
   "execution_count": null,
   "id": "18d8920b-b846-42b0-aed9-1e2af32b7b4b",
   "metadata": {},
   "outputs": [],
   "source": [
    "ent_ignore_ls = ['DATE']\n",
    "ner_list = []\n",
    "\n",
    "for el in doc.ents:\n",
    "    if el.label_ not in ent_ignore_ls:\n",
    "        #print(el, el.label_)\n",
    "        if el.text not in ner_list:\n",
    "            temp_doc = nlp(el.text)\n",
    "            ner_list.append(el.text)\n",
    "\n",
    "ner_list[0:5]"
   ]
  },
  {
   "cell_type": "code",
   "execution_count": null,
   "id": "bf199a63-aa2c-4bbb-b4a8-1528b2098562",
   "metadata": {},
   "outputs": [],
   "source": [
    "def remove_special_characters(text):\n",
    "    \n",
    "    regex = re.compile(r'[\\n\\r\\t]')\n",
    "    clean_text = regex.sub(\" \", text)\n",
    "    \n",
    "    return clean_text\n",
    "\n",
    "\n",
    "def remove_stop_words_and_punct(text, print_text=False):\n",
    "    \n",
    "    result_ls = []\n",
    "    rsw_doc = non_nc(text)\n",
    "    \n",
    "    for token in rsw_doc:\n",
    "        if print_text:\n",
    "            print(token, token.is_stop)\n",
    "            print('--------------')\n",
    "        if not token.is_stop and not token.is_punct and not token.is_space:\n",
    "            result_ls.append(str(token))\n",
    "    \n",
    "    result_str = ' '.join(result_ls)\n",
    "\n",
    "    return result_str"
   ]
  },
  {
   "cell_type": "code",
   "execution_count": null,
   "id": "b1d89362-49d7-439d-896e-01b48c45ddc6",
   "metadata": {},
   "outputs": [],
   "source": [
    "node_text_ls = []\n",
    "\n",
    "for el in ner_list:\n",
    "    clean_text = remove_special_characters(el)\n",
    "    no_sw = remove_stop_words_and_punct(clean_text)\n",
    "    if no_sw not in node_text_ls:\n",
    "        node_text_ls.append(no_sw)\n",
    "\n",
    "node_text_ls"
   ]
  },
  {
   "cell_type": "code",
   "execution_count": null,
   "id": "c974ac38-03b2-4b4f-9daa-820de24fdbff",
   "metadata": {},
   "outputs": [],
   "source": [
    "def getItems(site, itemtitle):\n",
    "    params = { 'action' :'wbsearchentities' , 'format' : 'json' , 'language' : 'en', 'type' : 'item', 'search': itemtitle}\n",
    "    request = api.Request(site=site,**params)\n",
    "    return request.submit()\n",
    "\n",
    "def getItem(site, wdItem, token):\n",
    "    request = api.Request(site=site,\n",
    "                          action='wbgetentities',\n",
    "                          format='json',\n",
    "                          ids=wdItem)    \n",
    "    return request.submit()\n",
    "\n",
    "def prettyPrint(variable):\n",
    "    pp = pprint.PrettyPrinter(indent=4)\n",
    "    pp.pprint(variable)\n",
    "\n",
    "# Login to wikidata\n",
    "token = open('.wiki_api_token').read()\n",
    "wikidata = pywikibot.Site('wikidata', 'wikidata')\n",
    "site = pywikibot.Site(\"wikidata\", \"wikidata\")"
   ]
  },
  {
   "cell_type": "code",
   "execution_count": null,
   "id": "c827aa0e-6fa6-43cf-9829-2f1d4ee0fb77",
   "metadata": {},
   "outputs": [],
   "source": [
    "%time\n",
    "\n",
    "item_ls = []\n",
    "i = 0\n",
    "\n",
    "for el in node_text_ls:\n",
    "\n",
    "    wikidataEntries = getItems(site, el)\n",
    "    try:\n",
    "        tup = (wikidataEntries['search'][0]['id'], el)\n",
    "        item_ls.append(tup)\n",
    "    except:\n",
    "        i += 1\n",
    "        print('Missing ', i,'th entry for ', el)\n",
    "    \n",
    "dedup_item_ls = []\n",
    "\n",
    "for item in item_ls:\n",
    "    if item not in dedup_item_ls:\n",
    "        dedup_item_ls.append(item)\n",
    "        \n",
    "dedup_item_ls"
   ]
  },
  {
   "cell_type": "code",
   "execution_count": null,
   "id": "5fbbe9f1-293b-4d17-a99d-643786c24fea",
   "metadata": {
    "tags": []
   },
   "outputs": [],
   "source": [
    "# Choose some P-codes that are appropriate to your initial search\n",
    "\n",
    "%%time\n",
    "p_dc = {\n",
    "    \n",
    "       }\n",
    "\n",
    "full_node_tup_ls = []\n",
    "\n",
    "for el in tqdm(item_ls):\n",
    "    itempage = pywikibot.ItemPage(wikidata, el[0])\n",
    "    itemdata = itempage.get()\n",
    "    source_node = itemdata['labels']['en']\n",
    "    #print(el, source_node)\n",
    "\n",
    "    for key in p_dc.keys():\n",
    "        #print(source_node, key, p_dc[key])\n",
    "        #print(itemdata['claims'])\n",
    "        try:\n",
    "            for i in itemdata['claims'][key]:\n",
    "                target = i.getTarget()\n",
    "                #print(target.id)\n",
    "                tup = (source_node, el[0], key, p_dc[key], target.labels['en'], target.id)\n",
    "                if tup not in full_node_tup_ls:\n",
    "                    full_node_tup_ls.append(tup)\n",
    "        except:\n",
    "            continue"
   ]
  },
  {
   "cell_type": "code",
   "execution_count": null,
   "id": "3ccd0c2f-8a90-449d-95f0-09c1e408f3bb",
   "metadata": {},
   "outputs": [],
   "source": [
    "full_node_tup_ls[0:5]"
   ]
  },
  {
   "cell_type": "code",
   "execution_count": null,
   "id": "09868a28-d3ad-4d9a-a006-ffd7190e35dc",
   "metadata": {},
   "outputs": [],
   "source": [
    "df = pd.DataFrame(full_node_tup_ls, columns=['source_name', 'source_q', 'rel_p', 'rel_name', 'target_name', 'target_q'])\n",
    "df.head()"
   ]
  },
  {
   "cell_type": "code",
   "execution_count": null,
   "id": "302e1ebd-b5ee-4b39-87d7-1b889e45baa7",
   "metadata": {},
   "outputs": [],
   "source": [
    "df.shape"
   ]
  },
  {
   "cell_type": "code",
   "execution_count": null,
   "id": "3b09776e-206b-47f3-ae4a-d3d0ae6a2533",
   "metadata": {},
   "outputs": [],
   "source": [
    "class Neo4jConnection:\n",
    "    \n",
    "    def __init__(self, uri, user, pwd):\n",
    "        self.__uri = uri\n",
    "        self.__user = user\n",
    "        self.__pwd = pwd\n",
    "        self.__driver = None\n",
    "        try:\n",
    "            self.__driver = GraphDatabase.driver(self.__uri, auth=(self.__user, self.__pwd))\n",
    "        except Exception as e:\n",
    "            print(\"Failed to create the driver:\", e)\n",
    "        \n",
    "    def close(self):\n",
    "        if self.__driver is not None:\n",
    "            self.__driver.close()\n",
    "        \n",
    "    def query(self, query, parameters=None, db=None):\n",
    "        assert self.__driver is not None, \"Driver not initialized!\"\n",
    "        session = None\n",
    "        response = None\n",
    "        try: \n",
    "            session = self.__driver.session(database=db) if db is not None else self.__driver.session() \n",
    "            response = list(session.run(query, parameters))\n",
    "        except Exception as e:\n",
    "            print(\"Query failed:\", e)\n",
    "        finally: \n",
    "            if session is not None:\n",
    "                session.close()\n",
    "        return response"
   ]
  },
  {
   "cell_type": "code",
   "execution_count": null,
   "id": "4316912f-5881-4940-b39a-7755577f468c",
   "metadata": {},
   "outputs": [],
   "source": [
    "uri = ''\n",
    "user = 'neo4j'\n",
    "pwd = ''\n",
    "\n",
    "conn = Neo4jConnection(uri=uri, user=user, pwd=pwd)\n",
    "conn.query(\"MATCH (n) RETURN COUNT(n)\")"
   ]
  },
  {
   "cell_type": "code",
   "execution_count": null,
   "id": "a2ff1909-2740-49d0-a5b5-2d43260d1d21",
   "metadata": {},
   "outputs": [],
   "source": [
    "class Neo4jConnection:\n",
    "    \n",
    "    def __init__(self, uri, user, pwd):\n",
    "        self.__uri = uri\n",
    "        self.__user = user\n",
    "        self.__pwd = pwd\n",
    "        self.__driver = None\n",
    "        try:\n",
    "            self.__driver = GraphDatabase.driver(self.__uri, auth=(self.__user, self.__pwd))\n",
    "        except Exception as e:\n",
    "            print(\"Failed to create the driver:\", e)\n",
    "        \n",
    "    def close(self):\n",
    "        if self.__driver is not None:\n",
    "            self.__driver.close()\n",
    "        \n",
    "    def query(self, query, parameters=None, db=None):\n",
    "        assert self.__driver is not None, \"Driver not initialized!\"\n",
    "        session = None\n",
    "        response = None\n",
    "        try: \n",
    "            session = self.__driver.session(database=db) if db is not None else self.__driver.session() \n",
    "            response = list(session.run(query, parameters))\n",
    "        except Exception as e:\n",
    "            print(\"Query failed:\", e)\n",
    "        finally: \n",
    "            if session is not None:\n",
    "                session.close()\n",
    "        return response"
   ]
  },
  {
   "cell_type": "code",
   "execution_count": null,
   "id": "d1b1b552-9300-4878-9334-7f1d85048057",
   "metadata": {},
   "outputs": [],
   "source": [
    "uri = ''\n",
    "user = 'neo4j'\n",
    "pwd = ''\n",
    "\n",
    "conn = Neo4jConnection(uri=uri, user=user, pwd=pwd)\n",
    "conn.query(\"MATCH (n) RETURN COUNT(n)\")"
   ]
  },
  {
   "cell_type": "code",
   "execution_count": null,
   "id": "902a11ae-feba-41e5-a0d1-2d6ae6b3c3a5",
   "metadata": {},
   "outputs": [],
   "source": [
    "conn.query('CREATE CONSTRAINT q_value IF NOT EXISTS ON (n:Node) ASSERT n.id IS UNIQUE')"
   ]
  },
  {
   "cell_type": "code",
   "execution_count": null,
   "id": "d1e774c7-d2fc-460f-8375-734c68bd92bd",
   "metadata": {},
   "outputs": [],
   "source": [
    "source_df = df[['source_name', 'source_q']].drop_duplicates()\n",
    "source_df.columns = ['name', 'id']\n",
    "target_df = df[['target_name', 'target_q']].drop_duplicates()\n",
    "target_df.columns = ['name', 'id']\n",
    "all_nodes_df = pd.concat([source_df, target_df]).drop_duplicates()\n",
    "all_nodes_df.shape"
   ]
  },
  {
   "cell_type": "code",
   "execution_count": null,
   "id": "47974b7d-5700-4f1b-a3ce-1dbed3d6574d",
   "metadata": {},
   "outputs": [],
   "source": [
    "def get_p31(row):\n",
    "    # P31 corresponds to \"instance of\"\n",
    "    \n",
    "    itempage = pywikibot.ItemPage(wikidata, row)\n",
    "    itemdata = itempage.get()\n",
    "    try:\n",
    "        target = itemdata['claims']['P31'][0].getTarget()\n",
    "        target.get()\n",
    "        return target.labels['en']\n",
    "    except:\n",
    "        return 'Unknown'\n",
    "    \n",
    "\n",
    "def add_nodes(rows, batch_size=10000):\n",
    "    # Adds author nodes to the Neo4j graph as a batch job.\n",
    "\n",
    "    query = '''UNWIND $rows AS row\n",
    "               MERGE (:Node {name: row.name, id: row.id, type: row.node_label})\n",
    "               RETURN count(*) as total\n",
    "    '''\n",
    "    return insert_data(query, rows, batch_size)\n",
    "\n",
    "\n",
    "def add_edges(rows, batch_size=50000):\n",
    "    \n",
    "    \n",
    "    query = \"\"\"UNWIND $rows AS row\n",
    "               MATCH (src:Node {id: row.source_q}), (tar:Node {id: row.target_q})\n",
    "               CREATE (src)-[:%s]->(tar)\n",
    "    \"\"\" % edge\n",
    "    \n",
    "    return insert_data(query, rows, batch_size)\n",
    "\n",
    "\n",
    "def insert_data(query, rows, batch_size = 10000):\n",
    "    # Function to handle the updating the Neo4j database in batch mode.\n",
    "\n",
    "    total = 0\n",
    "    batch = 0\n",
    "    start = time.time()\n",
    "    result = None\n",
    "\n",
    "    while batch * batch_size < len(rows):\n",
    "\n",
    "        res = conn.query(query, parameters={'rows': rows[batch*batch_size:(batch+1)*batch_size].to_dict('records')})\n",
    "        try:\n",
    "            total += res[0]['total']\n",
    "        except:\n",
    "            total += 0\n",
    "        batch += 1\n",
    "        result = {\"total\":total, \"batches\":batch, \"time\":time.time()-start}\n",
    "        print(result)\n",
    "\n",
    "    return result"
   ]
  },
  {
   "cell_type": "code",
   "execution_count": null,
   "id": "a901cc4b-9501-4ab0-ab03-c409de81ab26",
   "metadata": {},
   "outputs": [],
   "source": [
    "%%time\n",
    "all_nodes_df['node_label'] = all_nodes_df['id'].map(get_p31)\n",
    "all_nodes_df.head()"
   ]
  },
  {
   "cell_type": "code",
   "execution_count": null,
   "id": "dfeb95f7-3349-490d-a7a1-6f8c2f029381",
   "metadata": {},
   "outputs": [],
   "source": [
    "add_nodes(all_nodes_df)"
   ]
  },
  {
   "cell_type": "code",
   "execution_count": null,
   "id": "794def5d-febf-41bf-b3ba-b48f090488ae",
   "metadata": {},
   "outputs": [],
   "source": [
    "edge_ls = df['rel_name'].unique().tolist()"
   ]
  },
  {
   "cell_type": "code",
   "execution_count": null,
   "id": "90d8f83a-8367-4e50-a09d-546d16017e86",
   "metadata": {},
   "outputs": [],
   "source": [
    "query = \"\"\"MATCH (n:Node) \n",
    "           WITH n.name AS name, COLLECT(n) AS nodes \n",
    "           WHERE SIZE(nodes)>1 \n",
    "           FOREACH (el in nodes | DETACH DELETE el)\n",
    "\"\"\"\n",
    "\n",
    "conn.query(query)"
   ]
  },
  {
   "cell_type": "code",
   "execution_count": null,
   "id": "c9e92af7-6476-4422-99f4-ad198ae219f2",
   "metadata": {},
   "outputs": [],
   "source": [
    "query = \"\"\"MATCH (n:Node) \n",
    "           SET n.type_ls = apoc.convert.toStringList(n.type)\n",
    "\"\"\"\n",
    "\n",
    "conn.query(query)"
   ]
  },
  {
   "cell_type": "code",
   "execution_count": null,
   "id": "d298f349-8d1b-49d8-90b5-a9b7949bd567",
   "metadata": {
    "tags": []
   },
   "outputs": [],
   "source": [
    "query = \"\"\"MATCH (n:Node) \n",
    "           CALL apoc.create.addLabels(n, n.type_ls) \n",
    "           YIELD node RETURN node\n",
    "\"\"\"\n",
    "\n",
    "conn.query(query)"
   ]
  },
  {
   "cell_type": "code",
   "execution_count": null,
   "id": "ee01b743-da48-4032-a2b4-dee522703e61",
   "metadata": {},
   "outputs": [],
   "source": []
  }
 ],
 "metadata": {
  "kernelspec": {
   "display_name": "Python 3 (ipykernel)",
   "language": "python",
   "name": "python3"
  },
  "language_info": {
   "codemirror_mode": {
    "name": "ipython",
    "version": 3
   },
   "file_extension": ".py",
   "mimetype": "text/x-python",
   "name": "python",
   "nbconvert_exporter": "python",
   "pygments_lexer": "ipython3",
   "version": "3.8.10"
  }
 },
 "nbformat": 4,
 "nbformat_minor": 5
}
