{
 "cells": [
  {
   "cell_type": "markdown",
   "id": "a3ee3662-4109-45b8-b9dc-533397165746",
   "metadata": {},
   "source": [
    "# Exercise 3: Using a pre-populated Wikidata graph\n",
    "\n",
    "Wikidata is a great source for making a knowledge graph.  We are going to build off of Exercise 1, where we used a pre-populated graph from the Google Knowledge graph, to create a similar graph and then answer some questions about it.  Similar to that approach, this graph is created from the subjects and objects found by `spacy` in the intro paragraph for the Wikipedia page for Barack Obama.  However, once we have our starting subject, we will then get the Wikidata elements for the objects.  You will see how this then creates a rich graph as we get the target entities for each of the objects.\n",
    "\n",
    "## Wikidata as a graph source\n",
    "\n",
    "As mentioned, Wikidata uses a data model of unique identifiers (P-values) and properties / claims (Q-values).  This structure is shown below\n",
    "\n",
    "<img src='images/wikidata_data_model.png'>\n",
    "\n",
    "We can see that the Q-value above for Douglas Adams is `Q42`.  (42...get it???) provide a unique link to the nouns in our text.  The P-value, on the other hand, can be used to provide the nouns.  As of the writing of this notebook, there were _9143 different P-values_ representing a range of potential verbs we could use!  So it will be up to use to decide which ones to use since querying all of them would be prohibitive.  \"educated at,\" as shown above, is `P69`.  A searchable list of all possible P-value can be found [here](https://www.wikidata.org/wiki/Wikidata:List_of_properties).  So we could assemble a list of the nouns we are interested in and get their Q-values and then a list of the P-values.  Then we would get the target text that the P-value refers to.\n",
    "\n",
    "## Our workflow\n",
    "\n",
    "We will assemble a list of the nouns from our target text and then we get their Q-values and then a list of the P-values.  Then we will get the target text that the P-value refers to.  So our workflow looks as follows\n",
    "\n",
    "<img src='images/wiki_workflow.png'>\n",
    "\n",
    "Once we have the data, we will populate the graph.  This will then result in a graph schema that is\n",
    "\n",
    "<img src = 'images/wiki_schema.png'>"
   ]
  },
  {
   "cell_type": "code",
   "execution_count": null,
   "id": "5062819d-2f70-41c0-bd70-297ec8c17c3b",
   "metadata": {},
   "outputs": [],
   "source": [
    "from neo4j import GraphDatabase"
   ]
  },
  {
   "cell_type": "code",
   "execution_count": null,
   "id": "13ffd118-1cb7-4011-a63a-f63581f5cf84",
   "metadata": {},
   "outputs": [],
   "source": [
    "class Neo4jConnection:\n",
    "    \n",
    "    def __init__(self, uri, user, pwd):\n",
    "        \n",
    "        self.__uri = uri\n",
    "        self.__user = user\n",
    "        self.__pwd = pwd\n",
    "        self.__driver = None\n",
    "        \n",
    "        try:\n",
    "            self.__driver = GraphDatabase.driver(self.__uri, auth=(self.__user, self.__pwd))\n",
    "        except Exception as e:\n",
    "            print(\"Failed to create the driver:\", e)\n",
    "        \n",
    "    def close(self):\n",
    "        \n",
    "        if self.__driver is not None:\n",
    "            self.__driver.close()\n",
    "        \n",
    "    def query(self, query, parameters=None, db=None):\n",
    "        \n",
    "        assert self.__driver is not None, \"Driver not initialized!\"\n",
    "        session = None\n",
    "        response = None\n",
    "        \n",
    "        try: \n",
    "            session = self.__driver.session(database=db) if db is not None else self.__driver.session() \n",
    "            response = list(session.run(query, parameters))\n",
    "        except Exception as e:\n",
    "            print(\"Query failed:\", e)\n",
    "        finally: \n",
    "            if session is not None:\n",
    "                session.close()\n",
    "        return response"
   ]
  },
  {
   "cell_type": "code",
   "execution_count": null,
   "id": "f4ce6ed2-8e07-4977-9950-27e473e32df2",
   "metadata": {},
   "outputs": [],
   "source": [
    "uri = ''\n",
    "user = 'neo4j'\n",
    "pwd = ''\n",
    "\n",
    "conn = Neo4jConnection(uri=uri, user=user, pwd=pwd)"
   ]
  },
  {
   "cell_type": "code",
   "execution_count": null,
   "id": "bcb3c9d3-8492-460b-8891-de7cea458f0c",
   "metadata": {},
   "outputs": [],
   "source": [
    "conn.query(\"MATCH (n) RETURN COUNT(n)\")"
   ]
  },
  {
   "cell_type": "code",
   "execution_count": null,
   "id": "49e3cefc-c1ad-4274-97ef-191dcc4310ee",
   "metadata": {},
   "outputs": [],
   "source": [
    "wiki_url = 'https://resources.oreilly.com/binderhub/introduction-to-knowledge-graphs/raw/master/data/wiki.json'\n",
    "\n",
    "query = \"CALL apoc.import.json('\" + wiki_url + \"')\"\n",
    "conn.query(query)\n",
    "\n",
    "conn.query(\"MATCH (n) RETURN COUNT(n)\")"
   ]
  },
  {
   "cell_type": "markdown",
   "id": "9a7871c7-834c-4ae4-ad96-0194e405c157",
   "metadata": {},
   "source": [
    "## _Exercise:_ Drop duplicates\n",
    "\n",
    "How many are there?"
   ]
  },
  {
   "cell_type": "code",
   "execution_count": null,
   "id": "e1e9ae06-bd9c-411e-8106-5161858f4a5d",
   "metadata": {},
   "outputs": [],
   "source": [
    "# your code here"
   ]
  },
  {
   "cell_type": "markdown",
   "id": "32019dff-4ab6-44b4-840d-a657731c9552",
   "metadata": {},
   "source": [
    "## _Exercise:_ Where was Barack Obama born?\n",
    "\n",
    "Hint: Check [this](https://neo4j.com/docs/cypher-manual/current/functions/list/#functions-relationships) out."
   ]
  },
  {
   "cell_type": "code",
   "execution_count": null,
   "id": "b7002b86-275e-49ce-a07c-229c58c91fc8",
   "metadata": {},
   "outputs": [],
   "source": [
    "# your code here"
   ]
  },
  {
   "cell_type": "markdown",
   "id": "e8037d5c-a827-4774-ae32-d54fc4f4dd7d",
   "metadata": {},
   "source": [
    "## Updating the node labels\n",
    "\n",
    "As we have already seen, a knowledge graph is more informative when we make the labels more rich.  Right now, we just have the node labels `Node`.  Since we have the node types (is instance of, like \"human,\" \"sovereign state,\" etc.), let's use those.  After you do this, I recommend you go back into the browser and take a look and see just how much more informative it is!\n",
    "\n",
    "_Note:_ There is a quirk in our data where those node types are not returned as a list.  So first we have to convert them to a string list and then we will add them.  APOC to the rescue!"
   ]
  },
  {
   "cell_type": "code",
   "execution_count": null,
   "id": "e83de605-aea3-495f-b81b-4c70f9a3ed62",
   "metadata": {},
   "outputs": [],
   "source": [
    "query = \"\"\"\n",
    "    MATCH (n:Node) \n",
    "    SET n.type_ls = apoc.convert.toStringList(n.type)\n",
    "\"\"\"\n",
    "\n",
    "conn.query(query)\n",
    "\n",
    "query = \"\"\"\n",
    "    MATCH (n:Node) \n",
    "    CALL apoc.create.addLabels(n, n.type_ls) \n",
    "    YIELD node RETURN node\n",
    "\"\"\"\n",
    "\n",
    "conn.query(query)"
   ]
  },
  {
   "cell_type": "markdown",
   "id": "9aa2382c-87ad-453b-8c34-913c1536e889",
   "metadata": {},
   "source": [
    "## Coming up\n",
    "\n",
    "We are going to do some actual machine learning on a knowledge graph in the next several exercises!  You are welcome to use this one or to create your own.  In the next exercise I will show you how to create your own graph, should you choose to do so. "
   ]
  },
  {
   "cell_type": "code",
   "execution_count": null,
   "id": "b25907c5-1497-44a1-80dd-aa98e0707fcc",
   "metadata": {},
   "outputs": [],
   "source": []
  }
 ],
 "metadata": {
  "kernelspec": {
   "display_name": "Python 3 (ipykernel)",
   "language": "python",
   "name": "python3"
  },
  "language_info": {
   "codemirror_mode": {
    "name": "ipython",
    "version": 3
   },
   "file_extension": ".py",
   "mimetype": "text/x-python",
   "name": "python",
   "nbconvert_exporter": "python",
   "pygments_lexer": "ipython3",
   "version": "3.8.10"
  }
 },
 "nbformat": 4,
 "nbformat_minor": 5
}
