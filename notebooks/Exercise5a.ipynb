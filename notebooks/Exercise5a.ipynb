{
 "cells": [
  {
   "cell_type": "markdown",
   "id": "111e47c0-d96c-4573-9f28-24afa498ca43",
   "metadata": {},
   "source": [
    "# Exercise 5: Using basic data science to understand our graph\n",
    "\n",
    "## Introduction\n",
    "\n",
    "We now know how to create graphs and do some basic querying and manipulation on them.  In this exercise we are going to get a bit more complicated.  In particular, we are going to explore some techniques to calculate the following:\n",
    "\n",
    "- Node similarity\n",
    "- PageRank\n",
    "- Community detection\n",
    "\n",
    "We will be working with the Wikidata knowledge graph to do this.  If you already have a Sandbox instance created with that graph, you can use that.  Otherwise there are cells below to get that built back up on a new instance.\n",
    "\n",
    "## Graph Data Science Library\n",
    "\n",
    "Similar to APOC, we will be using a different library to do these calculations: the [Graph Data Science Library](https://dev.neo4j.com/graph_data_science).  There are built-in functions to achieve each of these tasks that make things significantly easier.\n",
    "\n",
    "So let's begin in the usual way..."
   ]
  },
  {
   "cell_type": "code",
   "execution_count": null,
   "id": "85f34720-e11a-42ba-84ff-5c88108f8984",
   "metadata": {},
   "outputs": [],
   "source": [
    "from neo4j import GraphDatabase"
   ]
  },
  {
   "cell_type": "code",
   "execution_count": null,
   "id": "9b7e8a84-03ec-4569-a42a-2a2e28eed1d2",
   "metadata": {},
   "outputs": [],
   "source": [
    "class Neo4jConnection:\n",
    "    \n",
    "    def __init__(self, uri, user, pwd):\n",
    "        \n",
    "        self.__uri = uri\n",
    "        self.__user = user\n",
    "        self.__pwd = pwd\n",
    "        self.__driver = None\n",
    "        \n",
    "        try:\n",
    "            self.__driver = GraphDatabase.driver(self.__uri, auth=(self.__user, self.__pwd))\n",
    "        except Exception as e:\n",
    "            print(\"Failed to create the driver:\", e)\n",
    "        \n",
    "    def close(self):\n",
    "        \n",
    "        if self.__driver is not None:\n",
    "            self.__driver.close()\n",
    "        \n",
    "    def query(self, query, parameters=None, db=None):\n",
    "        \n",
    "        assert self.__driver is not None, \"Driver not initialized!\"\n",
    "        session = None\n",
    "        response = None\n",
    "        \n",
    "        try: \n",
    "            session = self.__driver.session(database=db) if db is not None else self.__driver.session() \n",
    "            response = list(session.run(query, parameters))\n",
    "        except Exception as e:\n",
    "            print(\"Query failed:\", e)\n",
    "        finally: \n",
    "            if session is not None:\n",
    "                session.close()\n",
    "        return response"
   ]
  },
  {
   "cell_type": "code",
   "execution_count": null,
   "id": "c72391fc-ae3d-4458-ba70-bcb2108299d3",
   "metadata": {},
   "outputs": [],
   "source": [
    "uri = ''\n",
    "user = 'neo4j'\n",
    "pwd = ''\n",
    "\n",
    "conn = Neo4jConnection(uri=uri, user=user, pwd=pwd)\n",
    "\n",
    "conn.query(\"MATCH (n) RETURN COUNT(n)\")"
   ]
  },
  {
   "cell_type": "markdown",
   "id": "78fcc387-d958-4e48-85f0-32e686345c7b",
   "metadata": {},
   "source": [
    "## Populate the database\n",
    "\n",
    "This next cell is not necessary if you already have the database of the Barack Obama Wikidata graph going."
   ]
  },
  {
   "cell_type": "code",
   "execution_count": null,
   "id": "8370b2b8-45d1-49a3-bc08-41fbd0f069a5",
   "metadata": {},
   "outputs": [],
   "source": [
    "conn.query(\"CALL apoc.import.json('https://raw.githubusercontent.com/cj2001/nodes2021_kg_workshop/main/json_files/wiki.json')\")\n",
    "conn.query(\"MATCH (n) RETURN COUNT(n)\")\n",
    "\n",
    "# Delete duplicate nodes\n",
    "\n",
    "query = \"\"\"MATCH (n:Node) \n",
    "           WITH n.name AS name, COLLECT(n) AS nodes \n",
    "           WHERE SIZE(nodes)>1 \n",
    "           FOREACH (el in nodes | DETACH DELETE el)\n",
    "\"\"\"\n",
    "\n",
    "conn.query(query)\n",
    "\n",
    "# Populate node labels\n",
    "\n",
    "query1 = \"\"\"MATCH (n:Node) \n",
    "            SET n.type_ls = apoc.convert.toStringList(n.type)\n",
    "\"\"\"\n",
    "\n",
    "query2 = \"\"\"MATCH (n:Node) \n",
    "            CALL apoc.create.addLabels(n, n.type_ls) \n",
    "            YIELD node \n",
    "            RETURN COUNT(node)\n",
    "\"\"\"\n",
    "\n",
    "conn.query(query1)\n",
    "conn.query(query2)"
   ]
  },
  {
   "cell_type": "markdown",
   "id": "5fe3eef3-7ae2-4bd2-be9b-80bfb1d502d2",
   "metadata": {},
   "source": [
    "## _EXERCISE:_ Calculate in-degree of the nodes\n",
    "\n",
    "We could infer the importance of a node based on how many other nodes link to it.  See if you can identify the most important nodes.\n",
    "\n",
    "_Hint:_ You might want to check out the `size()` function in Cypher"
   ]
  },
  {
   "cell_type": "code",
   "execution_count": null,
   "id": "8a331e36-124b-455e-88df-b3e51702746f",
   "metadata": {},
   "outputs": [],
   "source": [
    "# your code here"
   ]
  },
  {
   "cell_type": "markdown",
   "id": "835d64d7-86a9-4689-b3e7-b1952e5425f5",
   "metadata": {},
   "source": [
    "## In-memory graphs\n",
    "\n",
    "The fundamental building block of the GDS library is the in-memory graph.  These are \"subgraphs\" created of the entire database on which we will do our calculations.  We will select the specific node and edge types for our calculations using them.\n",
    "\n",
    "You might ask why we don't just use the whole graph?  There are a few reasons for that:\n",
    "\n",
    "1. As the graphs get big, this will become prohibitive.\n",
    "2. Many graph algorithms require undirected and/or monopartite graphs.  Using in-memory graphs allows us to prepare the correct data for the subsequent calculations.\n",
    "\n",
    "There are two ways to create an in-memory graph with GDS: native projections and Cypher projections.  The former is much faster, the later is a bit more flexible.  You will definitely want to consult the [documentation](https://neo4j.com/docs/graph-data-science/current/management-ops/) on this because the syntax can get involved.\n",
    "\n",
    "### What in-memory graph should we create?\n",
    "\n",
    "Well, let's start with a hypothesis.  I am going to hypothesize that the humans in the graph who go to the same university will be similar.  So we are going to create an in-memory graph exploring which nodes of type \"private university\" or \"graduate school\" the humans are connected to.  We will use the following query to do this:\n",
    "\n",
    "```\n",
    "CALL gds.graph.create('human-edu', ['human', 'private university', 'graduate school'], '*')\n",
    "```\n",
    "\n",
    "This is a basic native projection graph.  We are essentially specifying three things:\n",
    "\n",
    "1. A name of the graph (`human-edu`)\n",
    "2. The nodes that will be involved (`['human', 'private university', 'graduate school']`)\n",
    "3. The edges that will be involved (`'*'`)\n",
    "\n",
    "That is pretty much the formula to creating all of the graphs, but we will make them a little bit more complicated as we go, just for educational purposes. \n",
    "\n",
    "So let's get started!"
   ]
  },
  {
   "cell_type": "code",
   "execution_count": null,
   "id": "ea54e131-10bb-4340-b839-9698e80acb38",
   "metadata": {},
   "outputs": [],
   "source": [
    "query = \"\"\"CALL gds.graph.create('human-edu', ['human', 'private university', 'graduate school'], '*')\"\"\"\n",
    "\n",
    "conn.query(query)"
   ]
  },
  {
   "cell_type": "markdown",
   "id": "9d549640-87cb-41ef-a653-504fc448eb08",
   "metadata": {},
   "source": [
    "## Node similarity calculation\n",
    "\n",
    "Now that we have our in-memory graph, we are going to use the [Node Similarity](https://neo4j.com/docs/graph-data-science/current/algorithms/node-similarity/) function to look at which humans are similar.  This function is essentially Jaccard Similarity based on which nodes each have in common."
   ]
  },
  {
   "cell_type": "code",
   "execution_count": null,
   "id": "51d15e3e-eff5-4094-9daf-3d6ce20f60ba",
   "metadata": {},
   "outputs": [],
   "source": [
    "query = \"\"\"CALL gds.nodeSimilarity.stream('human-edu')\n",
    "           YIELD node1, node2, similarity\n",
    "           RETURN gds.util.asNode(node1).name AS Person1, gds.util.asNode(node2).name AS Person2, similarity\n",
    "           ORDER BY similarity DESCENDING, Person1, Person2\n",
    "\"\"\"\n",
    "\n",
    "conn.query(query)"
   ]
  },
  {
   "cell_type": "markdown",
   "id": "a19a6845-0c5c-4ae8-92ac-cd8a738b66cd",
   "metadata": {},
   "source": [
    "## _EXERCISE:_ Node similarity based on awards received\n",
    "\n",
    "Repeat the above process, but look at similarity based on the awards the humans received (i.e. the `award_received` relationship).  You will need to construct a new in-memory graph and then run the node similarity function."
   ]
  },
  {
   "cell_type": "code",
   "execution_count": null,
   "id": "033bb17a-9fcd-4495-b2da-1bd7b07c67af",
   "metadata": {},
   "outputs": [],
   "source": [
    "# your code here"
   ]
  },
  {
   "cell_type": "markdown",
   "id": "69542367-af7b-41d1-854b-e71dff2b25a3",
   "metadata": {},
   "source": [
    "## PageRank\n",
    "\n",
    "<img src=\"images/pagerank.png\" width=\"400\">\n",
    "\n",
    "We discussed the PageRank algorithm earlier in this course.  But we will now use our `human-edu` graph to calculate it.  As you will see, based on our knowledge of politicians it is not very surprising."
   ]
  },
  {
   "cell_type": "code",
   "execution_count": null,
   "id": "4d6e8c45-a73b-4252-9405-7c0365489419",
   "metadata": {},
   "outputs": [],
   "source": [
    "query = \"\"\"CALL gds.pageRank.stream('human-edu')\n",
    "           YIELD nodeId, score\n",
    "           RETURN gds.util.asNode(nodeId).name AS name, score\n",
    "           ORDER BY score DESC, name ASC\n",
    "           LIMIT 10\n",
    "\"\"\"\n",
    "\n",
    "conn.query(query)"
   ]
  },
  {
   "cell_type": "markdown",
   "id": "53f85482-fcf8-4893-8035-8951e0a7d504",
   "metadata": {},
   "source": [
    "## Community detection\n",
    "\n",
    "There are several ways we can do [community detection](https://neo4j.com/docs/graph-data-science/current/algorithms/community/).  We covered some of them earlier in this course.  For this calculation, we will use the popular [Louvain Method](https://en.wikipedia.org/wiki/Louvain_method).  In this approach, [the algorithm](https://neo4j.com/docs/graph-data-science/current/algorithms/louvain/) identifies communities through comparisons of community density.  It is an iterative approach where the algorithm tries various groupings of community until an optimum is reached.\n",
    "\n",
    "Again, we will start with a hypothesis to create our in-memory graph.  Let's hypothesize that communities from around members with other entities (i.e. the `member_of` relationship).  We might be considering humans, organizations, countries, or any other type of node.  So we are going to this time create an in-memory graph of all nodes that have the `member_of` relationship.  We also will be creating the in-memory graph as an undirected graph.  Many of the GDS algorithms work best on undirected graphs, Louvain being one of them."
   ]
  },
  {
   "cell_type": "code",
   "execution_count": null,
   "id": "78c56f2f-7168-4638-99cb-c4484bee462c",
   "metadata": {},
   "outputs": [],
   "source": [
    "query = \"\"\"CALL gds.graph.create( 'member-undir', \n",
    "                                  '*', \n",
    "                                  { MEMBER: \n",
    "                                       { type: 'member_of', \n",
    "                                         orientation: 'UNDIRECTED' \n",
    "                                       } \n",
    "                                   } \n",
    "                                ) \n",
    "           YIELD graphName, nodeCount, relationshipCount\n",
    "\"\"\"\n",
    "\n",
    "conn.query(query)"
   ]
  },
  {
   "cell_type": "code",
   "execution_count": null,
   "id": "5543c46d-21db-4f7d-a40c-658613e5a7b2",
   "metadata": {},
   "outputs": [],
   "source": [
    "query = \"\"\"CALL gds.louvain.stream('member-undir') \n",
    "           YIELD nodeId, communityId \n",
    "           RETURN COUNT(gds.util.asNode(nodeId).name) AS total, communityId \n",
    "           ORDER BY total DESC\n",
    "           LIMIT 10\n",
    "\"\"\"\n",
    "\n",
    "conn.query(query)"
   ]
  },
  {
   "cell_type": "markdown",
   "id": "227221f4-57a7-4d9b-9f4b-d0ce13c8b4fd",
   "metadata": {},
   "source": [
    "## _EXERCISE:_ Do the larger communities make sense?\n",
    "\n",
    "Most of our communities will have 1 node in them, which is not particularly informative.  Using the above queries, identify which communities have the most nodes attributed to them and see if the largest one makes sense."
   ]
  },
  {
   "cell_type": "code",
   "execution_count": null,
   "id": "f6e0756d-582a-4501-9cee-c23bad92b342",
   "metadata": {},
   "outputs": [],
   "source": [
    "# your code here"
   ]
  }
 ],
 "metadata": {
  "kernelspec": {
   "display_name": "Python 3 (ipykernel)",
   "language": "python",
   "name": "python3"
  },
  "language_info": {
   "codemirror_mode": {
    "name": "ipython",
    "version": 3
   },
   "file_extension": ".py",
   "mimetype": "text/x-python",
   "name": "python",
   "nbconvert_exporter": "python",
   "pygments_lexer": "ipython3",
   "version": "3.8.10"
  }
 },
 "nbformat": 4,
 "nbformat_minor": 5
}
