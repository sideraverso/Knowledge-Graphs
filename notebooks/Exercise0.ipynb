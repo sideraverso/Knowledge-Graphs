{
 "cells": [
  {
   "cell_type": "markdown",
   "id": "839dd4ea-e73c-440c-947b-cd99a7af27f2",
   "metadata": {},
   "source": [
    "# Exercise 0: Creating a Neo4j Sandbox and and answer some basic graph questions\n",
    "\n",
    "## Introduction\n",
    "\n",
    "We will be using free Neo4j Sandbox database instances for this course.  We will get started with a very basic graph of movies as a means of quickly introducing the Cypher query language.  The following references will help to quickly learn Cypher:\n",
    "\n",
    "- [Neo4j Cheat Sheet and Quick Reference](https://dev.neo4j.com/neo4j_cheatsheet)\n",
    "- [Cypher Reference Card](https://dev.neo4j.com/cypher_ref_card)\n",
    "\n",
    "## Create a Sandbox\n",
    "\n",
    "You will need to create an instance by going to [this link](dev.neo4j.com/try), authenticating, and click on \"New Project.\"  From here, select the Movies graph and \"Launch Project.\"\n",
    "\n",
    "<img src=\"images/select_project.png\" width=\"600\">\n",
    "\n",
    "Once the instance starts, you will need the connection details for the instance as shown below:\n",
    "\n",
    "<img src=\"images/connection_details.png\" width=\"600\">\n",
    "\n",
    "In particular, we will need the Bolt URL and the password.\n",
    "\n",
    "## Connecting to the instance\n",
    "\n",
    "You have the option for this exercise of how to connect to the instance.  You can choose to work with Neo4j directly in the browser by clicking on the \"Open\" button on the Sandbox webpage.  Another option is to work directly in Python.  We will use both throughout the course, but typically the browser is good for EDA while Python is good for more in-depth problem solving.  However, the questions in this exercise can be solved using either.  The remainder of this notebook will illustrate how to do this exercise completely within Python."
   ]
  },
  {
   "cell_type": "code",
   "execution_count": null,
   "id": "c857230a-19ba-4d2c-991f-77caebce8646",
   "metadata": {},
   "outputs": [],
   "source": [
    "from py2neo import Graph"
   ]
  },
  {
   "cell_type": "markdown",
   "id": "75ea7d45-1e7b-4353-8483-ad951fd3d957",
   "metadata": {},
   "source": [
    "## Connection details\n",
    "\n",
    "You will need your specific Bolt URL and password to make the connection as shown below."
   ]
  },
  {
   "cell_type": "code",
   "execution_count": null,
   "id": "32a940e1-f837-4b1d-b02f-c89ee9194245",
   "metadata": {},
   "outputs": [],
   "source": [
    "uri = \"\"\n",
    "username = \"\"\n",
    "pwd = \"\"\n",
    "\n",
    "conn = Graph(uri, auth=(username, pwd))"
   ]
  },
  {
   "cell_type": "markdown",
   "id": "7857d4de-40ca-48fa-b2ce-5f7dd5b55eda",
   "metadata": {},
   "source": [
    "## Basic concepts around notation\n",
    "\n",
    "The main features of graphs are nodes and relationships like this:\n",
    "\n",
    "<img src=\"images/basic_graph.png\" width=\"600\">\n",
    "\n",
    "Nodes are represented in Cypher with `( )` while relationships are represented as `[ ]`.  "
   ]
  },
  {
   "cell_type": "markdown",
   "id": "cdb347d6-6b73-4240-811b-e0c7e9ef8f4b",
   "metadata": {},
   "source": [
    "## What is the schema of this graph?\n",
    "\n",
    "(This is run via `CALL db.schema.visualization()` in the browser.)\n",
    "\n",
    "<img src=\"images/movie_schema.png\" width=\"300\">"
   ]
  },
  {
   "cell_type": "markdown",
   "id": "7c2fb0eb-a9b7-4f03-ab53-b7cabe81d855",
   "metadata": {},
   "source": [
    "## Count the number of nodes in the graph"
   ]
  },
  {
   "cell_type": "code",
   "execution_count": null,
   "id": "5911520f-62ef-46d5-96fc-68eaf1cac470",
   "metadata": {},
   "outputs": [],
   "source": [
    "query = \"\"\"MATCH (n) RETURN COUNT(n)\"\"\"\n",
    "result = conn.query(query)\n",
    "result"
   ]
  },
  {
   "cell_type": "markdown",
   "id": "d752ba06-7ee1-4f8e-8ecb-8412a1c333ca",
   "metadata": {},
   "source": [
    "## What information is present about each node?"
   ]
  },
  {
   "cell_type": "code",
   "execution_count": null,
   "id": "2b3e8eee-acee-409a-a2b6-c85d2d8aca17",
   "metadata": {},
   "outputs": [],
   "source": [
    "query = \"\"\"MATCH (p:Person) RETURN p LIMIT 5\"\"\"\n",
    "result = conn.query(query).data()\n",
    "result"
   ]
  },
  {
   "cell_type": "code",
   "execution_count": null,
   "id": "ec14daaf-0863-44db-ae46-2e002404dd2f",
   "metadata": {},
   "outputs": [],
   "source": [
    "query = \"\"\"MATCH (p:Person) RETURN p LIMIT 5\"\"\"\n",
    "result_df = conn.query(query).to_data_frame()\n",
    "result_df.head()"
   ]
  },
  {
   "cell_type": "markdown",
   "id": "2cc3dd4d-351a-468a-b712-ccf11fd271f0",
   "metadata": {},
   "source": [
    "## _Question:_ How would you modify the above to return just the name and birth year of the person?"
   ]
  },
  {
   "cell_type": "code",
   "execution_count": null,
   "id": "3aa06211-ec69-4d04-8dc7-31cfd17dc3d3",
   "metadata": {},
   "outputs": [],
   "source": [
    "# your code here..."
   ]
  },
  {
   "cell_type": "markdown",
   "id": "6bb5ad62-ee50-4e3d-bed1-a23907479a54",
   "metadata": {},
   "source": [
    "## Identifying some relationships"
   ]
  },
  {
   "cell_type": "code",
   "execution_count": null,
   "id": "96d000fa-a3f8-4dec-9158-fc0638b139ff",
   "metadata": {},
   "outputs": [],
   "source": [
    "query = \"\"\"MATCH (p:Person {name: 'Tom Hanks'})-[:ACTED_IN]->(m:Movie) \n",
    "           RETURN m.title\n",
    "\"\"\"\n",
    "\n",
    "# Alternatively:\n",
    "#\n",
    "#query = \"\"\"MATCH (p:Person)-[:ACTED_IN]->(m:Movie)\n",
    "#           WHERE p.name = 'Tom Hanks'\n",
    "#           RETURN m.title\n",
    "###\"\"\"\n",
    "\n",
    "result = conn.query(query).data()\n",
    "\n",
    "for record in result:\n",
    "    print(record['m.title'])"
   ]
  },
  {
   "cell_type": "markdown",
   "id": "cf68c296-9fde-4510-9779-5215a2b0db0c",
   "metadata": {},
   "source": [
    "## Match co-actors\n",
    "\n",
    "Note that in Cypher `COLLECT()` returns the values as a list.  The opposite action is `UNWIND()`."
   ]
  },
  {
   "cell_type": "code",
   "execution_count": null,
   "id": "70155dce-cdc5-4bc1-8665-553c3b26ab73",
   "metadata": {},
   "outputs": [],
   "source": [
    "query = \"\"\"\n",
    "    MATCH (tom:Person {name: 'Tom Hanks'})-[:ACTED_IN]->(m:Movie)<-[:ACTED_IN]-(p:Person)\n",
    "    RETURN m.title AS title, COLLECT(p.name) as coActors\n",
    "\"\"\"\n",
    "\n",
    "result_df = conn.query(query).to_data_frame()\n",
    "result_df.head()"
   ]
  },
  {
   "cell_type": "markdown",
   "id": "90efa700-01cb-4057-bd82-161da59d19c5",
   "metadata": {},
   "source": [
    "## _Question:_ How many distinct co-actors are there for Tom Hanks?"
   ]
  },
  {
   "cell_type": "code",
   "execution_count": null,
   "id": "3a8605fa-a55b-454d-9165-b2bc1b56f90c",
   "metadata": {},
   "outputs": [],
   "source": [
    "# your code here..."
   ]
  },
  {
   "cell_type": "markdown",
   "id": "edbc77e5-aee1-4e77-8b92-ba15735e7dfd",
   "metadata": {},
   "source": [
    "## Searching n-hops from a target node"
   ]
  },
  {
   "cell_type": "code",
   "execution_count": null,
   "id": "eca0fe5f-57bf-49ac-baee-fbbaf6378124",
   "metadata": {},
   "outputs": [],
   "source": [
    "query = \"\"\"\n",
    "    MATCH (p:Person {name: 'Tom Hanks'})-[*1..3]-(p2:Person) \n",
    "    RETURN DISTINCT(p2.name) AS name\n",
    "    ORDER BY p2.name\n",
    "    LIMIT 10\n",
    "\"\"\"\n",
    "\n",
    "result = conn.query(query).data()\n",
    "\n",
    "for record in result:\n",
    "    print(record['name'])"
   ]
  },
  {
   "cell_type": "markdown",
   "id": "953d9b2c-db40-4d29-8e82-3199adcd2bf7",
   "metadata": {},
   "source": [
    "## _Question:_ How many actors are within 3 degrees (hops) from Tom Hanks?"
   ]
  },
  {
   "cell_type": "code",
   "execution_count": null,
   "id": "2e8c2f4e-5f73-45f5-b34b-f50ba839c549",
   "metadata": {},
   "outputs": [],
   "source": [
    "# your code here..."
   ]
  },
  {
   "cell_type": "code",
   "execution_count": null,
   "id": "876c818c-567b-449e-876c-802ca1576825",
   "metadata": {},
   "outputs": [],
   "source": []
  }
 ],
 "metadata": {
  "kernelspec": {
   "display_name": "Python 3 (ipykernel)",
   "language": "python",
   "name": "python3"
  },
  "language_info": {
   "codemirror_mode": {
    "name": "ipython",
    "version": 3
   },
   "file_extension": ".py",
   "mimetype": "text/x-python",
   "name": "python",
   "nbconvert_exporter": "python",
   "pygments_lexer": "ipython3",
   "version": "3.8.10"
  }
 },
 "nbformat": 4,
 "nbformat_minor": 5
}
